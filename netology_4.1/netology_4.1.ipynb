{
 "cells": [
  {
   "cell_type": "markdown",
   "metadata": {},
   "source": [
    "## Source Data Set: [here](https://catalog.data.gov/dataset/baby-names-from-social-security-card-applications-national-level-data/)."
   ]
  },
  {
   "cell_type": "code",
   "execution_count": 96,
   "metadata": {},
   "outputs": [],
   "source": [
    "import pandas as pd"
   ]
  },
  {
   "cell_type": "code",
   "execution_count": 69,
   "metadata": {},
   "outputs": [],
   "source": [
    "DATA_PATH = r\"E:\\python_projects\\dz\""
   ]
  },
  {
   "cell_type": "code",
   "execution_count": 70,
   "metadata": {},
   "outputs": [
    {
     "name": "stdout",
     "output_type": "stream",
     "text": [
      "Years: (format: 'YYYY, YYYY, YYYY) 1900, 1950, 2000\n"
     ]
    }
   ],
   "source": [
    "years_list = input(\"Years: (format: 'YYYY, YYYY, YYYY) \").split(\", \")"
   ]
  },
  {
   "cell_type": "code",
   "execution_count": 87,
   "metadata": {},
   "outputs": [],
   "source": [
    "def count_top3(years_list):\n",
    "    data = []\n",
    "    for year in years_list:\n",
    "        names = pd.read_csv(DATA_PATH + \"\\yob{}.txt\".format(year),\n",
    "                           names=[\"Name\", \"Gender\", \"Count\"])\n",
    "        data.append(names)\n",
    "        \n",
    "    names_all = pd.concat(data, names=[\"Year\", \"Pos\"])\n",
    "    names_all = names_all.groupby(\"Name\").sum()\n",
    "    names_all = names_all.sort_values(by=[\"Count\", \"Name\"],ascending=False).head(3)\n",
    "\n",
    "    result = names_all.index.values\n",
    "    \n",
    "    return result\n",
    "# Тут я прохожу по списку годов и загружаю датафрейм по каждому в список data. Затем я обьдиняю все датафреймы pd.concat().\n",
    "# Cоединяю одинаковые имена .groupby() и суммирую значения .sum(). Затем сортирую значения по кол-ву и оставляю первые три.\n",
    "# Вывожу только индексы (Имена)\n"
   ]
  },
  {
   "cell_type": "code",
   "execution_count": 88,
   "metadata": {},
   "outputs": [
    {
     "name": "stdout",
     "output_type": "stream",
     "text": [
      "['James' 'John' 'Robert']\n"
     ]
    }
   ],
   "source": [
    "print(count_top3(years_list))"
   ]
  },
  {
   "cell_type": "code",
   "execution_count": 89,
   "metadata": {},
   "outputs": [],
   "source": [
    "def count_dynamics(years_list):\n",
    "    data = []\n",
    "    for year in years_list:\n",
    "        names = pd.read_csv(DATA_PATH + \"\\yob{}.txt\".format(year),\n",
    "                           names=[\"Name\", \"Gender\", \"Count\"])\n",
    "        data.append(names)\n",
    "    \n",
    "    mans_count = []\n",
    "    fems_count = []\n",
    "    \n",
    "    for i in data:\n",
    "        mans_count.append(i[i.Gender == \"M\"].Count.sum()) \n",
    "        fems_count.append(i[i.Gender == \"F\"].Count.sum())\n",
    "        \n",
    "    count_dict = {'M': mans_count, \n",
    "                  'F': fems_count}\n",
    "    \n",
    "    return count_dict\n",
    "\n",
    "# Тут я прохожу по списку годов и загружаю датафрейм по каждому в список data. Затем проебгаю по каждому датафрейму в data и\n",
    "# Считываю кол-во детей с женскими и мужскиими именами и добавляю значению в соответствующий список. Потом Вывожу с этими \n",
    "# значениями.\n"
   ]
  },
  {
   "cell_type": "code",
   "execution_count": 90,
   "metadata": {
    "scrolled": true
   },
   "outputs": [
    {
     "name": "stdout",
     "output_type": "stream",
     "text": [
      "{'M': [150483, 1790549, 1962969], 'F': [299800, 1713151, 1815110]}\n"
     ]
    }
   ],
   "source": [
    "print(count_dynamics(years_list))"
   ]
  }
 ],
 "metadata": {
  "kernelspec": {
   "display_name": "Python 3",
   "language": "python",
   "name": "python3"
  },
  "language_info": {
   "codemirror_mode": {
    "name": "ipython",
    "version": 3
   },
   "file_extension": ".py",
   "mimetype": "text/x-python",
   "name": "python",
   "nbconvert_exporter": "python",
   "pygments_lexer": "ipython3",
   "version": "3.6.5"
  }
 },
 "nbformat": 4,
 "nbformat_minor": 2
}
