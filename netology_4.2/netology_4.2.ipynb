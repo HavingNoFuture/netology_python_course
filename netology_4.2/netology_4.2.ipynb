{
 "cells": [
  {
   "cell_type": "markdown",
   "metadata": {},
   "source": [
    "## Source Data Set: [here](https://catalog.data.gov/dataset/baby-names-from-social-security-card-applications-national-level-data/)."
   ]
  },
  {
   "cell_type": "code",
   "execution_count": 1,
   "metadata": {},
   "outputs": [],
   "source": [
    "import pandas as pd\n",
    "import matplotlib.pyplot as plt\n",
    "%matplotlib inline"
   ]
  },
  {
   "cell_type": "code",
   "execution_count": 2,
   "metadata": {},
   "outputs": [],
   "source": [
    "DATA_PATH = r\"E:\\python_projects\\dz\""
   ]
  },
  {
   "cell_type": "markdown",
   "metadata": {},
   "source": [
    "#### 1. Построить график изменения количества имен Ruth и Robert с 1900 по 2000."
   ]
  },
  {
   "cell_type": "code",
   "execution_count": 37,
   "metadata": {},
   "outputs": [],
   "source": [
    "names_by_year = {}\n",
    "for year in range (1900, 2001):\n",
    "    names_by_year[year] = pd.read_csv(DATA_PATH + \"\\yob{}.txt\".format(year),\n",
    "                       names=[\"Name\", \"Gender\", \"Count\"])\n",
    "\n",
    "names = pd.concat(names_by_year, names=[\"Year\", \"Pos\"])\n",
    "names_dynamics = names.groupby([names.index.get_level_values(0), \"Name\"]).sum()\n",
    "names_dynamics = names_dynamics.query(\"Name == ['Ruth', 'Robert']\").unstack(\"Name\")"
   ]
  },
  {
   "cell_type": "code",
   "execution_count": 38,
   "metadata": {
    "collapsed": true
   },
   "outputs": [
    {
     "name": "stdout",
     "output_type": "stream",
     "text": [
      "      Count       \n",
      "Name Robert   Ruth\n",
      "Year              \n",
      "1900   3845   4781\n",
      "1901   2559   3989\n",
      "1902   3201   4401\n",
      "1903   3057   4531\n",
      "1904   3427   4915\n",
      "1905   3431   5088\n",
      "1906   3651   5159\n",
      "1907   4042   5588\n",
      "1908   4245   6200\n",
      "1909   4588   6526\n",
      "1910   5638   7247\n",
      "1911   6565   8032\n",
      "1912  12901  11323\n",
      "1913  15755  12642\n",
      "1914  21268  15885\n",
      "1915  28854  21924\n",
      "1916  31863  23245\n",
      "1917  35388  23618\n",
      "1918  40798  25581\n",
      "1919  41211  24628\n",
      "1920  48883  26155\n",
      "1921  53025  25841\n",
      "1922  54034  23702\n",
      "1923  56370  23699\n",
      "1924  61097  23672\n",
      "1925  61246  22325\n",
      "1926  61500  20294\n",
      "1927  62080  19508\n",
      "1928  61131  17928\n",
      "1929  60236  16085\n",
      "...     ...    ...\n",
      "1971  50952   1640\n",
      "1972  43323   1383\n",
      "1973  38950   1288\n",
      "1974  37280   1304\n",
      "1975  35579   1235\n",
      "1976  34045   1208\n",
      "1977  34458   1198\n",
      "1978  33644   1219\n",
      "1979  34275   1209\n",
      "1980  34535   1262\n",
      "1981  34630   1272\n",
      "1982  34654   1193\n",
      "1983  33000   1135\n",
      "1984  32002   1174\n",
      "1985  32326   1125\n",
      "1986  31582   1096\n",
      "1987  30447   1040\n",
      "1988  30495   1012\n",
      "1989  30190    997\n",
      "1990  28980    913\n",
      "1991  26905    990\n",
      "1992  24147    853\n",
      "1993  22513    863\n",
      "1994  20607    880\n",
      "1995  18627    858\n",
      "1996  17711    801\n",
      "1997  16340    856\n",
      "1998  15552    850\n",
      "1999  14563    870\n",
      "2000  13760    903\n",
      "\n",
      "[101 rows x 2 columns]\n"
     ]
    }
   ],
   "source": [
    "print(names_dynamics)"
   ]
  },
  {
   "cell_type": "code",
   "execution_count": 39,
   "metadata": {},
   "outputs": [
    {
     "data": {
      "text/plain": [
       "<matplotlib.axes._subplots.AxesSubplot at 0x29907433390>"
      ]
     },
     "execution_count": 39,
     "metadata": {},
     "output_type": "execute_result"
    },
    {
     "data": {
      "image/png": "[encoded data removed]",
      "text/plain": [
       "<Figure size 432x288 with 1 Axes>"
      ]
     },
     "metadata": {},
     "output_type": "display_data"
    }
   ],
   "source": [
    "names_dynamics.plot(title=\"Dynamics\", grid=True)"
   ]
  },
  {
   "cell_type": "markdown",
   "metadata": {},
   "source": [
    "#### 2. Построить гистограмму по количеству их имен с 1900 по 2000 с 5-летними промежутками (1900, 1905, 1910, …, 1995, 2000)."
   ]
  },
  {
   "cell_type": "code",
   "execution_count": 40,
   "metadata": {},
   "outputs": [],
   "source": [
    "names_by_year = {}\n",
    "for year in range (1900, 2001, 5):\n",
    "    names_by_year[year] = pd.read_csv(DATA_PATH + \"\\yob{}.txt\".format(year),\n",
    "                       names=[\"Name\", \"Gender\", \"Count\"])\n",
    "    \n",
    "names = pd.concat(names_by_year, names=[\"Year\", \"Pos\"])\n",
    "names_dynamics = names.groupby([names.index.get_level_values(0), \"Name\"]).sum()\n",
    "names_dynamics = names_dynamics.query(\"Name == ['Ruth', 'Robert']\").unstack(\"Name\")"
   ]
  },
  {
   "cell_type": "code",
   "execution_count": 41,
   "metadata": {
    "collapsed": true
   },
   "outputs": [
    {
     "name": "stdout",
     "output_type": "stream",
     "text": [
      "      Count       \n",
      "Name Robert   Ruth\n",
      "Year              \n",
      "1900   3845   4781\n",
      "1905   3431   5088\n",
      "1910   5638   7247\n",
      "1915  28854  21924\n",
      "1920  48883  26155\n",
      "1925  61246  22325\n",
      "1930  62572  15010\n",
      "1935  56755  10041\n",
      "1940  61401   8922\n",
      "1945  70132   8063\n",
      "1950  83768   7138\n",
      "1955  83953   6200\n",
      "1960  72640   4960\n",
      "1965  63389   3242\n",
      "1970  57529   1828\n",
      "1975  35579   1235\n",
      "1980  34535   1262\n",
      "1985  32326   1125\n",
      "1990  28980    913\n",
      "1995  18627    858\n",
      "2000  13760    903\n"
     ]
    }
   ],
   "source": [
    "print(names_dynamics)"
   ]
  },
  {
   "cell_type": "code",
   "execution_count": 42,
   "metadata": {},
   "outputs": [
    {
     "data": {
      "text/plain": [
       "<matplotlib.axes._subplots.AxesSubplot at 0x29907c4c390>"
      ]
     },
     "execution_count": 42,
     "metadata": {},
     "output_type": "execute_result"
    },
    {
     "data": {
      "image/png": "[encoded data removed]",
      "text/plain": [
       "<Figure size 432x288 with 1 Axes>"
      ]
     },
     "metadata": {},
     "output_type": "display_data"
    }
   ],
   "source": [
    "names_dynamics.plot.bar(title=\"Dynamics\", grid=True)\n",
    "# Как пофиксить года в графике?)"
   ]
  },
  {
   "cell_type": "markdown",
   "metadata": {},
   "source": [
    "#### 3. Построить круговую диаграмму по количеству употреблений для ТОП-10 популярных имен, начинающихся на R, за 1950 год."
   ]
  },
  {
   "cell_type": "code",
   "execution_count": 55,
   "metadata": {},
   "outputs": [],
   "source": [
    "names_1950 = pd.read_csv(DATA_PATH + \"\\yob1950.txt\".format(year),\n",
    "                       names=[\"Name\", \"Gender\", \"Count\"])\n",
    "\n",
    "names_1950 = names_1950.sort_values(by=[\"Count\", \"Name\"],ascending=False).head(10)\n",
    "names_1950 = names_1950.drop('Gender', 1)\n",
    "\n",
    "# Надо убрать столбец индексов. Как сделать?"
   ]
  },
  {
   "cell_type": "code",
   "execution_count": 56,
   "metadata": {},
   "outputs": [
    {
     "name": "stdout",
     "output_type": "stream",
     "text": [
      "          Name  Count\n",
      "6111     James  86239\n",
      "6112    Robert  83565\n",
      "0        Linda  80432\n",
      "6113      John  79420\n",
      "1         Mary  65482\n",
      "6114   Michael  65151\n",
      "6115     David  60730\n",
      "6116   William  60690\n",
      "6117   Richard  51001\n",
      "2     Patricia  47945\n"
     ]
    }
   ],
   "source": [
    "print(names_1950)"
   ]
  },
  {
   "cell_type": "code",
   "execution_count": 39,
   "metadata": {},
   "outputs": [
    {
     "data": {
      "text/plain": [
       "<matplotlib.axes._subplots.AxesSubplot at 0x1e1c022eb00>"
      ]
     },
     "execution_count": 39,
     "metadata": {},
     "output_type": "execute_result"
    },
    {
     "data": {
      "image/png": "[encoded data removed]",
      "text/plain": [
       "<Figure size 432x288 with 1 Axes>"
      ]
     },
     "metadata": {},
     "output_type": "display_data"
    }
   ],
   "source": [
    "names_1950.plot.pie(y='Count')"
   ]
  },
  {
   "cell_type": "markdown",
   "metadata": {},
   "source": [
    "### 4. Построить точечную диаграмму по количеству согласных букв в именах и частоте употребления за 100 лет. \n",
    "Т.е. необходимо сложить всю статистику с 1900 до 2000, сгруппировать по именам, посчитать количество согласных букв в каждом имени и вывести на график отношение \"Количество согласных букв в имени\" : \"Количество употреблений\"."
   ]
  },
  {
   "cell_type": "code",
   "execution_count": 46,
   "metadata": {},
   "outputs": [],
   "source": [
    "CONSONANTS = ('b', 'c', 'd', 'f', 'g', 'h', 'j', 'k', 'l', 'm', 'n', 'p', 'q', 'r', 's', 't', 'v', 'w', 'x', 'y', 'z')\n",
    "def get_consonants_count(name):\n",
    "    i = 0\n",
    "    for char in name:\n",
    "        if char.lower() in CONSONANTS:\n",
    "            i += 1\n",
    "    return i"
   ]
  },
  {
   "cell_type": "code",
   "execution_count": 47,
   "metadata": {},
   "outputs": [],
   "source": [
    "names = []\n",
    "for year in range (1900, 2001):\n",
    "    names_by_year = pd.read_csv(DATA_PATH + \"\\yob{}.txt\".format(year),\n",
    "                       names=[\"Name\", \"Gender\", \"Count\"])\n",
    "    names.append(names_by_year)\n",
    "    \n",
    "names = pd.concat(names, names=[\"Year\", \"Pos\"])\n",
    "\n",
    "names_dynamics = names.groupby([names.index.get_level_values(0), \"Name\"]).sum()\n",
    "names_dynamics = names_dynamics.reset_index(1)\n",
    "names_dynamics['Consonants count'] = names_dynamics.apply(lambda row: get_consonants_count(row.Name), axis=1)"
   ]
  },
  {
   "cell_type": "code",
   "execution_count": 51,
   "metadata": {},
   "outputs": [
    {
     "name": "stdout",
     "output_type": "stream",
     "text": [
      "       Name    Count  Consonants count\n",
      "0      Mary  2875573                 3\n",
      "0  Jennifer   859215                 5\n",
      "1      Mary   564292                 3\n",
      "2  Patricia   534130                 4\n",
      "0     Linda   508403                 3\n",
      "0      Lisa   420568                 2\n",
      "0   Jessica   397949                 4\n",
      "4     Susan   387056                 3\n",
      "1    Ashley   386369                 4\n",
      "1     Helen   317584                 3\n"
     ]
    }
   ],
   "source": [
    "names_dynamics = names_dynamics.sort_values(by=[\"Count\", \"Name\"],ascending=False).head(10)\n",
    "print(names_dynamics)\n",
    "# Надо убрать столбец индексов. Как сделать?"
   ]
  },
  {
   "cell_type": "code",
   "execution_count": 49,
   "metadata": {},
   "outputs": [
    {
     "data": {
      "text/plain": [
       "<matplotlib.axes._subplots.AxesSubplot at 0x29909764b00>"
      ]
     },
     "execution_count": 49,
     "metadata": {},
     "output_type": "execute_result"
    },
    {
     "data": {
      "image/png": "[encoded data removed]",
      "text/plain": [
       "<Figure size 432x288 with 1 Axes>"
      ]
     },
     "metadata": {},
     "output_type": "display_data"
    }
   ],
   "source": [
    "names_dynamics.plot.scatter(x='Consonants count', y='Count')"
   ]
  },
  {
   "cell_type": "code",
   "execution_count": null,
   "metadata": {},
   "outputs": [],
   "source": []
  }
 ],
 "metadata": {
  "kernelspec": {
   "display_name": "Python 3",
   "language": "python",
   "name": "python3"
  },
  "language_info": {
   "codemirror_mode": {
    "name": "ipython",
    "version": 3
   },
   "file_extension": ".py",
   "mimetype": "text/x-python",
   "name": "python",
   "nbconvert_exporter": "python",
   "pygments_lexer": "ipython3",
   "version": "3.6.5"
  }
 },
 "nbformat": 4,
 "nbformat_minor": 2
}
