{
 "cells": [
  {
   "cell_type": "markdown",
   "metadata": {},
   "source": [
    "### Исследование: \"Зависимость: Год основания клуба - Количество очков на примере Испанской Примеры 2017-2018\"\n",
    "\n",
    "Source: [here](https://www.football-data.org)."
   ]
  },
  {
   "cell_type": "code",
   "execution_count": 1,
   "metadata": {},
   "outputs": [],
   "source": [
    "import requests\n",
    "\n",
    "import pandas as pd\n",
    "import numpy as np\n",
    "import matplotlib.pyplot as plt\n",
    "\n",
    "%matplotlib inline"
   ]
  },
  {
   "cell_type": "code",
   "execution_count": 2,
   "metadata": {},
   "outputs": [],
   "source": [
    "from scipy.cluster.vq import whiten, kmeans2"
   ]
  },
  {
   "cell_type": "code",
   "execution_count": 3,
   "metadata": {},
   "outputs": [],
   "source": [
    "def call_api(uri, key):\n",
    "    json = {}\n",
    "    try:\n",
    "        json = requests.get(uri, headers = {'X-Auth-Token': 'ebf90ecc5c564552bcf82160ef4a2faf'}).json()\n",
    "        return json\n",
    "    except:\n",
    "        print(json)\n",
    "        return None\n",
    "# Создаю функцию для быстрого обращения api"
   ]
  },
  {
   "cell_type": "code",
   "execution_count": 4,
   "metadata": {},
   "outputs": [],
   "source": [
    "teams = call_api('http://api.football-data.org/v2/competitions/2014/teams', 'teams')"
   ]
  },
  {
   "cell_type": "code",
   "execution_count": 5,
   "metadata": {},
   "outputs": [],
   "source": [
    "teams_spain = []\n",
    "founded =[]\n",
    "for team in range(len(teams[\"teams\"])):\n",
    "    teams_spain .append(teams[\"teams\"][team][\"name\"])\n",
    "    founded.append(teams[\"teams\"][team][\"founded\"])\n",
    "# Достаю названия команд и их год основания. Связь между списками - их индексы."
   ]
  },
  {
   "cell_type": "code",
   "execution_count": 6,
   "metadata": {},
   "outputs": [],
   "source": [
    "table = call_api('http://api.football-data.org//v2/competitions/2014/standings', 'teams')"
   ]
  },
  {
   "cell_type": "code",
   "execution_count": 7,
   "metadata": {},
   "outputs": [],
   "source": [
    "points = []\n",
    "for team in teams_spain:\n",
    "    for i in range(len(teams_spain)):\n",
    "        if team == table['standings'][0][\"table\"][i][\"team\"][\"name\"]:\n",
    "            points.append(table['standings'][0][\"table\"][i][\"points\"])\n",
    "            continue\n",
    "# Достаю очки. Связь так же по средствам индексов."
   ]
  },
  {
   "cell_type": "code",
   "execution_count": 8,
   "metadata": {},
   "outputs": [],
   "source": [
    "team_for_pd  = []\n",
    "for i in range(len(teams_spain)):\n",
    "    temp = {}\n",
    "    temp[\"name\"] = teams_spain[i]\n",
    "    temp[\"founded\"] = founded[i]\n",
    "    temp[\"points\"] = points[i]\n",
    "    team_for_pd.append(temp)\n",
    "# Обьединяю данных для датафрейма"
   ]
  },
  {
   "cell_type": "code",
   "execution_count": 9,
   "metadata": {},
   "outputs": [
    {
     "data": {
      "text/html": [
       "<div>\n",
       "<style scoped>\n",
       "    .dataframe tbody tr th:only-of-type {\n",
       "        vertical-align: middle;\n",
       "    }\n",
       "\n",
       "    .dataframe tbody tr th {\n",
       "        vertical-align: top;\n",
       "    }\n",
       "\n",
       "    .dataframe thead th {\n",
       "        text-align: right;\n",
       "    }\n",
       "</style>\n",
       "<table border=\"1\" class=\"dataframe\">\n",
       "  <thead>\n",
       "    <tr style=\"text-align: right;\">\n",
       "      <th></th>\n",
       "      <th>founded</th>\n",
       "      <th>name</th>\n",
       "      <th>points</th>\n",
       "    </tr>\n",
       "  </thead>\n",
       "  <tbody>\n",
       "    <tr>\n",
       "      <th>0</th>\n",
       "      <td>1898</td>\n",
       "      <td>Athletic Club</td>\n",
       "      <td>43</td>\n",
       "    </tr>\n",
       "    <tr>\n",
       "      <th>1</th>\n",
       "      <td>1903</td>\n",
       "      <td>Club Atlético de Madrid</td>\n",
       "      <td>79</td>\n",
       "    </tr>\n",
       "    <tr>\n",
       "      <th>2</th>\n",
       "      <td>1900</td>\n",
       "      <td>RCD Espanyol de Barcelona</td>\n",
       "      <td>49</td>\n",
       "    </tr>\n",
       "    <tr>\n",
       "      <th>3</th>\n",
       "      <td>1899</td>\n",
       "      <td>FC Barcelona</td>\n",
       "      <td>93</td>\n",
       "    </tr>\n",
       "    <tr>\n",
       "      <th>4</th>\n",
       "      <td>1946</td>\n",
       "      <td>Getafe CF</td>\n",
       "      <td>55</td>\n",
       "    </tr>\n",
       "    <tr>\n",
       "      <th>5</th>\n",
       "      <td>1933</td>\n",
       "      <td>Málaga CF</td>\n",
       "      <td>20</td>\n",
       "    </tr>\n",
       "    <tr>\n",
       "      <th>6</th>\n",
       "      <td>1902</td>\n",
       "      <td>Real Madrid CF</td>\n",
       "      <td>76</td>\n",
       "    </tr>\n",
       "    <tr>\n",
       "      <th>7</th>\n",
       "      <td>1909</td>\n",
       "      <td>Levante UD</td>\n",
       "      <td>46</td>\n",
       "    </tr>\n",
       "    <tr>\n",
       "      <th>8</th>\n",
       "      <td>1907</td>\n",
       "      <td>Real Betis Balompié</td>\n",
       "      <td>60</td>\n",
       "    </tr>\n",
       "    <tr>\n",
       "      <th>9</th>\n",
       "      <td>1903</td>\n",
       "      <td>Real Sociedad de Fútbol</td>\n",
       "      <td>49</td>\n",
       "    </tr>\n",
       "    <tr>\n",
       "      <th>10</th>\n",
       "      <td>1923</td>\n",
       "      <td>Villarreal CF</td>\n",
       "      <td>61</td>\n",
       "    </tr>\n",
       "    <tr>\n",
       "      <th>11</th>\n",
       "      <td>1919</td>\n",
       "      <td>Valencia CF</td>\n",
       "      <td>73</td>\n",
       "    </tr>\n",
       "    <tr>\n",
       "      <th>12</th>\n",
       "      <td>1921</td>\n",
       "      <td>Deportivo Alavés</td>\n",
       "      <td>47</td>\n",
       "    </tr>\n",
       "    <tr>\n",
       "      <th>13</th>\n",
       "      <td>1949</td>\n",
       "      <td>UD Las Palmas</td>\n",
       "      <td>22</td>\n",
       "    </tr>\n",
       "    <tr>\n",
       "      <th>14</th>\n",
       "      <td>1940</td>\n",
       "      <td>SD Eibar</td>\n",
       "      <td>51</td>\n",
       "    </tr>\n",
       "    <tr>\n",
       "      <th>15</th>\n",
       "      <td>1930</td>\n",
       "      <td>Girona FC</td>\n",
       "      <td>51</td>\n",
       "    </tr>\n",
       "    <tr>\n",
       "      <th>16</th>\n",
       "      <td>1923</td>\n",
       "      <td>RC Celta de Vigo</td>\n",
       "      <td>49</td>\n",
       "    </tr>\n",
       "    <tr>\n",
       "      <th>17</th>\n",
       "      <td>1905</td>\n",
       "      <td>Sevilla FC</td>\n",
       "      <td>58</td>\n",
       "    </tr>\n",
       "    <tr>\n",
       "      <th>18</th>\n",
       "      <td>1906</td>\n",
       "      <td>RC Deportivo La Coruña</td>\n",
       "      <td>29</td>\n",
       "    </tr>\n",
       "    <tr>\n",
       "      <th>19</th>\n",
       "      <td>1928</td>\n",
       "      <td>CD Leganés</td>\n",
       "      <td>43</td>\n",
       "    </tr>\n",
       "  </tbody>\n",
       "</table>\n",
       "</div>"
      ],
      "text/plain": [
       "    founded                       name  points\n",
       "0      1898              Athletic Club      43\n",
       "1      1903    Club Atlético de Madrid      79\n",
       "2      1900  RCD Espanyol de Barcelona      49\n",
       "3      1899               FC Barcelona      93\n",
       "4      1946                  Getafe CF      55\n",
       "5      1933                  Málaga CF      20\n",
       "6      1902             Real Madrid CF      76\n",
       "7      1909                 Levante UD      46\n",
       "8      1907        Real Betis Balompié      60\n",
       "9      1903    Real Sociedad de Fútbol      49\n",
       "10     1923              Villarreal CF      61\n",
       "11     1919                Valencia CF      73\n",
       "12     1921           Deportivo Alavés      47\n",
       "13     1949              UD Las Palmas      22\n",
       "14     1940                   SD Eibar      51\n",
       "15     1930                  Girona FC      51\n",
       "16     1923           RC Celta de Vigo      49\n",
       "17     1905                 Sevilla FC      58\n",
       "18     1906     RC Deportivo La Coruña      29\n",
       "19     1928                 CD Leganés      43"
      ]
     },
     "execution_count": 9,
     "metadata": {},
     "output_type": "execute_result"
    }
   ],
   "source": [
    "teams_pd = pd.DataFrame(team_for_pd)\n",
    "teams_pd"
   ]
  },
  {
   "cell_type": "code",
   "execution_count": 10,
   "metadata": {},
   "outputs": [
    {
     "data": {
      "text/plain": [
       "<matplotlib.axes._subplots.AxesSubplot at 0x22ab84860b8>"
      ]
     },
     "execution_count": 10,
     "metadata": {},
     "output_type": "execute_result"
    },
    {
     "data": {
      "image/png": "[encoded data removed]",
      "text/plain": [
       "<Figure size 432x288 with 1 Axes>"
      ]
     },
     "metadata": {},
     "output_type": "display_data"
    }
   ],
   "source": [
    "teams_pd.plot.scatter(x='founded', y='points', s=100)\n",
    "# Взаимосвязь года основания и набранных очков"
   ]
  },
  {
   "cell_type": "code",
   "execution_count": 11,
   "metadata": {},
   "outputs": [
    {
     "data": {
      "text/html": [
       "<div>\n",
       "<style scoped>\n",
       "    .dataframe tbody tr th:only-of-type {\n",
       "        vertical-align: middle;\n",
       "    }\n",
       "\n",
       "    .dataframe tbody tr th {\n",
       "        vertical-align: top;\n",
       "    }\n",
       "\n",
       "    .dataframe thead th {\n",
       "        text-align: right;\n",
       "    }\n",
       "</style>\n",
       "<table border=\"1\" class=\"dataframe\">\n",
       "  <thead>\n",
       "    <tr style=\"text-align: right;\">\n",
       "      <th></th>\n",
       "      <th>founded</th>\n",
       "      <th>points</th>\n",
       "    </tr>\n",
       "  </thead>\n",
       "  <tbody>\n",
       "    <tr>\n",
       "      <th>0</th>\n",
       "      <td>1898</td>\n",
       "      <td>43</td>\n",
       "    </tr>\n",
       "    <tr>\n",
       "      <th>1</th>\n",
       "      <td>1903</td>\n",
       "      <td>79</td>\n",
       "    </tr>\n",
       "    <tr>\n",
       "      <th>2</th>\n",
       "      <td>1900</td>\n",
       "      <td>49</td>\n",
       "    </tr>\n",
       "    <tr>\n",
       "      <th>3</th>\n",
       "      <td>1899</td>\n",
       "      <td>93</td>\n",
       "    </tr>\n",
       "    <tr>\n",
       "      <th>4</th>\n",
       "      <td>1946</td>\n",
       "      <td>55</td>\n",
       "    </tr>\n",
       "    <tr>\n",
       "      <th>5</th>\n",
       "      <td>1933</td>\n",
       "      <td>20</td>\n",
       "    </tr>\n",
       "    <tr>\n",
       "      <th>6</th>\n",
       "      <td>1902</td>\n",
       "      <td>76</td>\n",
       "    </tr>\n",
       "    <tr>\n",
       "      <th>7</th>\n",
       "      <td>1909</td>\n",
       "      <td>46</td>\n",
       "    </tr>\n",
       "    <tr>\n",
       "      <th>8</th>\n",
       "      <td>1907</td>\n",
       "      <td>60</td>\n",
       "    </tr>\n",
       "    <tr>\n",
       "      <th>9</th>\n",
       "      <td>1903</td>\n",
       "      <td>49</td>\n",
       "    </tr>\n",
       "    <tr>\n",
       "      <th>10</th>\n",
       "      <td>1923</td>\n",
       "      <td>61</td>\n",
       "    </tr>\n",
       "    <tr>\n",
       "      <th>11</th>\n",
       "      <td>1919</td>\n",
       "      <td>73</td>\n",
       "    </tr>\n",
       "    <tr>\n",
       "      <th>12</th>\n",
       "      <td>1921</td>\n",
       "      <td>47</td>\n",
       "    </tr>\n",
       "    <tr>\n",
       "      <th>13</th>\n",
       "      <td>1949</td>\n",
       "      <td>22</td>\n",
       "    </tr>\n",
       "    <tr>\n",
       "      <th>14</th>\n",
       "      <td>1940</td>\n",
       "      <td>51</td>\n",
       "    </tr>\n",
       "    <tr>\n",
       "      <th>15</th>\n",
       "      <td>1930</td>\n",
       "      <td>51</td>\n",
       "    </tr>\n",
       "    <tr>\n",
       "      <th>16</th>\n",
       "      <td>1923</td>\n",
       "      <td>49</td>\n",
       "    </tr>\n",
       "    <tr>\n",
       "      <th>17</th>\n",
       "      <td>1905</td>\n",
       "      <td>58</td>\n",
       "    </tr>\n",
       "    <tr>\n",
       "      <th>18</th>\n",
       "      <td>1906</td>\n",
       "      <td>29</td>\n",
       "    </tr>\n",
       "    <tr>\n",
       "      <th>19</th>\n",
       "      <td>1928</td>\n",
       "      <td>43</td>\n",
       "    </tr>\n",
       "  </tbody>\n",
       "</table>\n",
       "</div>"
      ],
      "text/plain": [
       "    founded  points\n",
       "0      1898      43\n",
       "1      1903      79\n",
       "2      1900      49\n",
       "3      1899      93\n",
       "4      1946      55\n",
       "5      1933      20\n",
       "6      1902      76\n",
       "7      1909      46\n",
       "8      1907      60\n",
       "9      1903      49\n",
       "10     1923      61\n",
       "11     1919      73\n",
       "12     1921      47\n",
       "13     1949      22\n",
       "14     1940      51\n",
       "15     1930      51\n",
       "16     1923      49\n",
       "17     1905      58\n",
       "18     1906      29\n",
       "19     1928      43"
      ]
     },
     "execution_count": 11,
     "metadata": {},
     "output_type": "execute_result"
    }
   ],
   "source": [
    "del  teams_pd ['name']\n",
    "teams_pd"
   ]
  },
  {
   "cell_type": "code",
   "execution_count": 12,
   "metadata": {},
   "outputs": [
    {
     "name": "stderr",
     "output_type": "stream",
     "text": [
      "E:\\anaconda3\\lib\\site-packages\\ipykernel_launcher.py:1: FutureWarning: Method .as_matrix will be removed in a future version. Use .values instead.\n",
      "  \"\"\"Entry point for launching an IPython kernel.\n"
     ]
    },
    {
     "data": {
      "text/plain": [
       "array([[119.43013512,   2.42043307],\n",
       "       [119.74475613,   4.44684215],\n",
       "       [119.55598352,   2.75816792],\n",
       "       [119.49305932,   5.23489013],\n",
       "       [122.45049681,   3.09590276],\n",
       "       [121.63248218,   1.12578282],\n",
       "       [119.68183193,   4.27797473],\n",
       "       [120.12230134,   2.58930049],\n",
       "       [119.99645294,   3.37734847],\n",
       "       [119.74475613,   2.75816792],\n",
       "       [121.00324017,   3.43363761],\n",
       "       [120.75154336,   4.1091073 ],\n",
       "       [120.87739176,   2.64558963],\n",
       "       [122.63926941,   1.23836111],\n",
       "       [122.0729516 ,   2.8707462 ],\n",
       "       [121.44370958,   2.8707462 ],\n",
       "       [121.00324017,   2.75816792],\n",
       "       [119.87060453,   3.26477019],\n",
       "       [119.93352873,   1.63238509],\n",
       "       [121.31786117,   2.42043307]])"
      ]
     },
     "execution_count": 12,
     "metadata": {},
     "output_type": "execute_result"
    }
   ],
   "source": [
    "whitened = whiten(teams_pd.as_matrix())\n",
    "whitened"
   ]
  },
  {
   "cell_type": "code",
   "execution_count": 13,
   "metadata": {},
   "outputs": [
    {
     "data": {
      "text/plain": [
       "(array([[121.60451587,   2.49548526],\n",
       "        [119.91779768,   4.51720358],\n",
       "        [119.80768033,   2.68579616]]),\n",
       " array([2, 1, 2, 1, 0, 0, 1, 2, 2, 2, 0, 1, 0, 0, 0, 0, 0, 2, 2, 0]))"
      ]
     },
     "execution_count": 13,
     "metadata": {},
     "output_type": "execute_result"
    }
   ],
   "source": [
    "centroids, cluster_map = kmeans2(whitened, 3)\n",
    "centroids, cluster_map"
   ]
  },
  {
   "cell_type": "code",
   "execution_count": 14,
   "metadata": {},
   "outputs": [
    {
     "data": {
      "text/plain": [
       "['b',\n",
       " 'g',\n",
       " 'b',\n",
       " 'g',\n",
       " 'r',\n",
       " 'r',\n",
       " 'g',\n",
       " 'b',\n",
       " 'b',\n",
       " 'b',\n",
       " 'r',\n",
       " 'g',\n",
       " 'r',\n",
       " 'r',\n",
       " 'r',\n",
       " 'r',\n",
       " 'r',\n",
       " 'b',\n",
       " 'b',\n",
       " 'r']"
      ]
     },
     "execution_count": 14,
     "metadata": {},
     "output_type": "execute_result"
    }
   ],
   "source": [
    "colors_map  = {0: 'r', 1: 'g', 2: 'b', 3: 'y', 4: 'm'}\n",
    "colors = [colors_map[c] for c in cluster_map]\n",
    "colors"
   ]
  },
  {
   "cell_type": "code",
   "execution_count": 15,
   "metadata": {},
   "outputs": [
    {
     "data": {
      "text/plain": [
       "<matplotlib.axes._subplots.AxesSubplot at 0x22ab890d208>"
      ]
     },
     "execution_count": 15,
     "metadata": {},
     "output_type": "execute_result"
    },
    {
     "data": {
      "image/png": "[encoded data removed]",
      "text/plain": [
       "<Figure size 432x288 with 1 Axes>"
      ]
     },
     "metadata": {},
     "output_type": "display_data"
    }
   ],
   "source": [
    "teams_pd.plot.scatter(x='founded', y='points', c=colors, s=100)\n",
    "# Разбиваю на 3 кластера"
   ]
  },
  {
   "cell_type": "code",
   "execution_count": 16,
   "metadata": {},
   "outputs": [
    {
     "name": "stderr",
     "output_type": "stream",
     "text": [
      "E:\\anaconda3\\lib\\site-packages\\scipy\\cluster\\vq.py:525: UserWarning: One of the clusters is empty. Re-run kmeans with a different initialization.\n",
      "  warnings.warn(\"One of the clusters is empty. \"\n"
     ]
    },
    {
     "data": {
      "text/plain": [
       "(array([[121.60451587,   2.49548526],\n",
       "        [119.91779768,   4.51720358],\n",
       "        [119.80768033,   2.68579616]]),\n",
       " array([3, 0, 2, 0, 4, 4, 0, 2, 2, 2, 1, 0, 1, 4, 4, 1, 1, 2, 3, 1]))"
      ]
     },
     "execution_count": 16,
     "metadata": {},
     "output_type": "execute_result"
    }
   ],
   "source": [
    "centroidscentroid , cluster_map = kmeans2(whitened, 5)\n",
    "centroids, cluster_map"
   ]
  },
  {
   "cell_type": "code",
   "execution_count": 17,
   "metadata": {},
   "outputs": [
    {
     "data": {
      "text/plain": [
       "['y',\n",
       " 'r',\n",
       " 'b',\n",
       " 'r',\n",
       " 'm',\n",
       " 'm',\n",
       " 'r',\n",
       " 'b',\n",
       " 'b',\n",
       " 'b',\n",
       " 'g',\n",
       " 'r',\n",
       " 'g',\n",
       " 'm',\n",
       " 'm',\n",
       " 'g',\n",
       " 'g',\n",
       " 'b',\n",
       " 'y',\n",
       " 'g']"
      ]
     },
     "execution_count": 17,
     "metadata": {},
     "output_type": "execute_result"
    }
   ],
   "source": [
    "colors_map = {0: 'r', 1: 'g', 2: 'b', 3: 'y', 4: 'm'}\n",
    "colors = [colors_map[c] for c in cluster_map]\n",
    "colors"
   ]
  },
  {
   "cell_type": "code",
   "execution_count": 18,
   "metadata": {},
   "outputs": [
    {
     "data": {
      "text/plain": [
       "<matplotlib.axes._subplots.AxesSubplot at 0x22ab8be37b8>"
      ]
     },
     "execution_count": 18,
     "metadata": {},
     "output_type": "execute_result"
    },
    {
     "data": {
      "image/png": "[encoded data removed]",
      "text/plain": [
       "<Figure size 432x288 with 1 Axes>"
      ]
     },
     "metadata": {},
     "output_type": "display_data"
    }
   ],
   "source": [
    "teams_pd.plot.scatter(x='founded', y='points', c=colors, s=100)\n",
    "# Разбиваю на 5 кластеров"
   ]
  }
 ],
 "metadata": {
  "kernelspec": {
   "display_name": "Python 3",
   "language": "python",
   "name": "python3"
  },
  "language_info": {
   "codemirror_mode": {
    "name": "ipython",
    "version": 3
   },
   "file_extension": ".py",
   "mimetype": "text/x-python",
   "name": "python",
   "nbconvert_exporter": "python",
   "pygments_lexer": "ipython3",
   "version": "3.6.5"
  }
 },
 "nbformat": 4,
 "nbformat_minor": 2
}
